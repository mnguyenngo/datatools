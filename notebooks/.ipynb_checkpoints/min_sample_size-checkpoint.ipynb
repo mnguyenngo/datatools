{
 "cells": [
  {
   "cell_type": "markdown",
   "metadata": {},
   "source": [
    "# Estimating Minimum Sample Size\n",
    "The following are my notes on estimating minimum sample sizes. During my research, I found many articles with different equations and definitions for calculating the minimum sample sizes, which was very frustrating. I included two references that were easy to understand for me.\n",
    "___\n",
    "\n",
    "## References\n",
    "* https://www.surveymonkey.com/mp/sample-size-calculator/\n",
    "* http://www.calculator.net/sample-size-calculator.html?type=1&cl=95&ci=5&pp=50&ps=&x=96&y=25"
   ]
  },
  {
   "cell_type": "markdown",
   "metadata": {},
   "source": [
    "## Sample Size for Unlimited Populations\n",
    "Let's start off with unlimited populations, since large datasets are ubiquitous today, and for most applications, your population will be over a million. The equation is also simpler and it provides a conservative estimate.\n",
    "\n",
    "$$ n = \\frac{z^2 \\times \\hat{p}(1-\\hat{p})}{\\epsilon^2} $$\n",
    "\n",
    "* $n$: minimum sample size\n",
    "* $z$: z-score (see Table in Appendix below)\n",
    "* $\\hat{p}$: proportion of the population\n",
    "* $\\epsilon$: margin of error\n",
    "\n",
    "You will typically be asked for the minimum sample size for a test given a margin error of 5% and a confidence interval of 95%. You will need to determine the proportion of the population, $\\hat{p}$, to determine the sample size. The most conservative estimate for sample size is when $\\hat{p} = 0.5$, so this is an easy choice to start.\n"
   ]
  },
  {
   "cell_type": "code",
   "execution_count": 1,
   "metadata": {},
   "outputs": [],
   "source": [
    "z_score = {0.70: 1.04, \n",
    "           0.75: 1.15, \n",
    "           0.80: 1.28,\n",
    "           0.85: 1.44,\n",
    "           0.92: 1.75,\n",
    "           0.95: 1.96,\n",
    "           0.96: 2.05,\n",
    "           0.98: 2.32,\n",
    "           0.99: 2.58,\n",
    "           0.999: 3.29,\n",
    "           0.9999: 3.89,\n",
    "           0.99999: 4.42}"
   ]
  },
  {
   "cell_type": "code",
   "execution_count": 5,
   "metadata": {},
   "outputs": [],
   "source": [
    "def min_sample_size(CI=0.95, MOE=0.05):\n",
    "    z = z_score[CI]\n",
    "    return (z**2 * 0.5**2 / MOE**2)"
   ]
  },
  {
   "cell_type": "code",
   "execution_count": 7,
   "metadata": {},
   "outputs": [
    {
     "data": {
      "text/plain": [
       "384.1599999999999"
      ]
     },
     "execution_count": 7,
     "metadata": {},
     "output_type": "execute_result"
    }
   ],
   "source": [
    "min_sample_size()"
   ]
  },
  {
   "cell_type": "markdown",
   "metadata": {},
   "source": [
    "## Sample Size for Finite Populations"
   ]
  },
  {
   "cell_type": "code",
   "execution_count": null,
   "metadata": {},
   "outputs": [],
   "source": []
  },
  {
   "cell_type": "code",
   "execution_count": null,
   "metadata": {},
   "outputs": [],
   "source": []
  },
  {
   "cell_type": "code",
   "execution_count": null,
   "metadata": {},
   "outputs": [],
   "source": []
  },
  {
   "cell_type": "code",
   "execution_count": null,
   "metadata": {},
   "outputs": [],
   "source": []
  },
  {
   "cell_type": "markdown",
   "metadata": {},
   "source": [
    "## Appendix"
   ]
  },
  {
   "cell_type": "markdown",
   "metadata": {},
   "source": [
    "### Confidence Level and Z-score\n",
    "\n",
    "Confidence Level | z-score (±)\n",
    "--- | ---\n",
    "0.70 | 1.04\n",
    "0.75 | 1.15\n",
    "0.80 | 1.28\n",
    "0.85 | 1.44\n",
    "0.92 | 1.75\n",
    "0.95 | 1.96\n",
    "0.96 | 2.05\n",
    "0.98 | 2.33\n",
    "0.99 | 2.58\n",
    "0.999 | 3.29\n",
    "0.9999 | 3.89\n",
    "0.99999 | 4.42"
   ]
  },
  {
   "cell_type": "code",
   "execution_count": null,
   "metadata": {},
   "outputs": [],
   "source": []
  }
 ],
 "metadata": {
  "kernelspec": {
   "display_name": "Python 3",
   "language": "python",
   "name": "python3"
  },
  "language_info": {
   "codemirror_mode": {
    "name": "ipython",
    "version": 3
   },
   "file_extension": ".py",
   "mimetype": "text/x-python",
   "name": "python",
   "nbconvert_exporter": "python",
   "pygments_lexer": "ipython3",
   "version": "3.6.3"
  }
 },
 "nbformat": 4,
 "nbformat_minor": 2
}
